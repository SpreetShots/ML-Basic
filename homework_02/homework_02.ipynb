{
 "cells": [
  {
   "cell_type": "markdown",
   "id": "a2c501e6",
   "metadata": {},
   "source": [
    "# Домашнее задание: Управляющие конструкции"
   ]
  },
  {
   "cell_type": "markdown",
   "id": "3e4cac4a",
   "metadata": {},
   "source": [
    "## Задание 1: Получение однозначного числа\n",
    "\n",
    "Пользователь вводит целое число, программа складывает все цифры числа, с полученным числом — то же самое, и так до тех пор, пока не получится однозначное число.\n",
    "\n",
    "<br>\n",
    "\n",
    "**Примеры:**\n",
    "* `545   -> 5`\n",
    "* `12345 -> 6`"
   ]
  },
  {
   "cell_type": "code",
   "execution_count": null,
   "id": "344e919f",
   "metadata": {},
   "outputs": [
    {
     "name": "stdout",
     "output_type": "stream",
     "text": [
      "\u001b[96mОтправьте q для выхода из программы\u001b[0m\n",
      "\u001b[92m545 -> 5\u001b[0m\n",
      "\u001b[96mОтправьте q для выхода из программы\u001b[0m\n",
      "\u001b[92m12345 -> 6\u001b[0m\n",
      "\u001b[96mОтправьте q для выхода из программы\u001b[0m\n",
      "\u001b[91mВведите корректное числовое значение\u001b[0m\n",
      "\u001b[96mОтправьте q для выхода из программы\u001b[0m\n"
     ]
    }
   ],
   "source": [
    "while True:\n",
    "    print('\\033[96m' + \"Отправьте q для выхода из программы\" + '\\033[0m')\n",
    "    \n",
    "    num = input(\"Введите число: \")\n",
    "    \n",
    "    if \"q\" in num:\n",
    "        break\n",
    "    \n",
    "    if num.isdigit():\n",
    "        orig_num = num\n",
    "        while len(str(num)) != 1:\n",
    "            num = sum([int(i) for i in str(num)])\n",
    "        print('\\033[92m' + f\"{orig_num} -> {num}\" + '\\033[0m')\n",
    "    else:\n",
    "        print('\\033[91m' + \"Введите корректное числовое значение\" + '\\033[0m')\n"
   ]
  },
  {
   "cell_type": "markdown",
   "id": "45527a4a",
   "metadata": {},
   "source": [
    "## Задание 2: Кинотеатр\n",
    "\n",
    "Дан список списков, каждый вложенный список состоит из 1 и 0, количество вложенных списков — количество рядов. Пользователь вводит, сколько билетов ему требуется. Программа должна найти ряд, где можно приобрести нужное количество билетов (места должны быть рядом). Если таких рядов несколько, то ближайший к экрану (ближайшим считается нулевой ряд). Если таких мест нет, то вывести False.\n",
    "\n",
    "<br>\n",
    "\n",
    "**Примеры:**\n",
    "* `[[0,1,1,0], [1,0,0,0], [0,1,0,0]], 2 -> 1`\n",
    "* `[[0,1,1,0], [1,0,1,0], [1,1,0,1]], 2 -> False`"
   ]
  },
  {
   "cell_type": "code",
   "execution_count": null,
   "id": "3a29082d",
   "metadata": {},
   "outputs": [
    {
     "name": "stdout",
     "output_type": "stream",
     "text": [
      "[[0, 1, 1, 0], [1, 0, 0, 0], [0, 1, 0, 0]], 1 -> 0\n"
     ]
    }
   ],
   "source": [
    "arr_1 = [\n",
    "    [0, 1, 1, 0],\n",
    "    [1, 0, 0, 0],\n",
    "    [0, 1, 0, 0]\n",
    "]\n",
    "\n",
    "arr_2 = [\n",
    "    [0, 1, 1, 0],\n",
    "    [1, 0, 1, 0],\n",
    "    [1, 1, 0, 1]\n",
    "]\n",
    "\n",
    "count_of_ticket = int(input(\"Введите количество билетов:\"))\n",
    "count_free_cell = 0\n",
    "\n",
    "for row in range(len(arr_1)):\n",
    "    for column in arr_1[row]:\n",
    "        if column == 0:\n",
    "            if count_free_cell != count_of_ticket:\n",
    "                count_free_cell +=1\n",
    "        else:\n",
    "            count_free_cell = 0\n",
    "    \n",
    "    if count_free_cell == count_of_ticket:\n",
    "        print('\\033[92m' + f\"{arr_1}, {count_of_ticket} -> {row}\" + '\\033[0m')\n",
    "        break\n",
    "    else:\n",
    "        count_free_cell = 0\n",
    "\n",
    "if count_free_cell != count_of_ticket:\n",
    "    print('\\033[93m' + \"На выбранное количество мест билеты отсутствуют\" + '\\033[0m')\n"
   ]
  },
  {
   "cell_type": "markdown",
   "id": "7b7f098c",
   "metadata": {},
   "source": [
    "## Задание 3: Алгоритм RLE\n",
    "\n",
    "Необходимо написать упрощенную версию алгоритма RLE. \n",
    "Алгоритм RLE объединяет подряд идущие символы в коэффициент и символ.\n",
    "\n",
    "<br>\n",
    "\n",
    "**Примеры:**\n",
    "* `asssdddsssddd -> 1a3s3d3s3d`\n",
    "* `aaabbbbccccc  -> 3a4b5c`\n",
    "* `abcba         -> 1a1b1c1b1a`"
   ]
  },
  {
   "cell_type": "code",
   "execution_count": null,
   "id": "e0d30ec2",
   "metadata": {},
   "outputs": [
    {
     "name": "stdout",
     "output_type": "stream",
     "text": [
      "\u001b[92msguylsdufggduddd7777734@@@####$%%%%^ -> 1s1g1u1y1l1s1d1u1f2g1d1u3d5713143@4#1$4%1^\u001b[0m\n",
      "None\n"
     ]
    }
   ],
   "source": [
    "string = input(\"Введите ряд символов: \")\n",
    "counter = 0\n",
    "char = \"\"\n",
    "new_string = \"\"\n",
    "\n",
    "for value in string:\n",
    "    if counter == 0:\n",
    "        char = value\n",
    "        counter += 1\n",
    "    elif value == char:\n",
    "        counter +=1\n",
    "    else:\n",
    "        new_string += str(counter) + char\n",
    "        char = value\n",
    "        counter = 1\n",
    "        \n",
    "new_string += str(counter) + char\n",
    "\n",
    "print('\\033[92m' + f\"{string} -> {new_string}\" + '\\033[0m')"
   ]
  },
  {
   "cell_type": "markdown",
   "id": "f24d5e58",
   "metadata": {},
   "source": [
    "## Задание 4: Шифр Цезаря\n",
    "\n",
    "Реализуйте программу для шифрования текста с помощью шифра Цезаря.  \n",
    "Шифр Цезаря — это метод шифрования, при котором каждая буква в тексте заменяется буквой, стоящей на фиксированное число позиций дальше в алфавите.\n",
    "\n",
    "### Требования\n",
    "1. Программа должна принимать на вход:\n",
    "   - Строку текста для шифрования\n",
    "   - Ключ шифра (число от 0 до 25)\n",
    "\n",
    "2. Правила шифрования:\n",
    "   - Шифруются только латинские буквы (a-z, A-Z)\n",
    "   - Сохраняется регистр букв (заглавные остаются заглавными)\n",
    "   - Пробелы, цифры и знаки препинания остаются без изменений\n",
    "   - Сдвиг циклический (после 'z' идет 'a', после 'Z' идет 'A')\n",
    "\n",
    "### Примеры\n",
    "\n",
    "* `\"Hello World\", 3      -> \"Khoor Zruog\"`\n",
    "* `\"Python is great!\", 5 -> \"Udymts nx lwjfy!\"`\n",
    "* `\"XYZ abc\", 3          -> \"ABC def\"`\n",
    "* `\"Test 123\", 1         -> \"Uftu 123\"`\n",
    "\n",
    "### Алгоритм\n",
    "* Для каждого символа в строке:\n",
    "   - Если это латинская буква, найти её позицию в алфавите\n",
    "   - Добавить к позиции значение ключа\n",
    "   - Если результат больше 25, использовать остаток от деления на 26\n",
    "   - Преобразовать обратно в букву, сохранив регистр\n",
    "   - Если это не буква, оставить символ без изменений\n"
   ]
  },
  {
   "cell_type": "code",
   "execution_count": null,
   "id": "6a075d20",
   "metadata": {},
   "outputs": [
    {
     "name": "stdout",
     "output_type": "stream",
     "text": [
      "\u001b[93mcurrent shift: 14\u001b[0m\n",
      "\u001b[92m\"qwertt\", 14 -> \"eksfhh\"\u001b[0m\n"
     ]
    }
   ],
   "source": [
    "string = input(\"Введите строку: \")\n",
    "shift = int(input(\"Введите сдвиг символов: \"))\n",
    "return_string = \"\"\n",
    "\n",
    "if shift > 25:\n",
    "    shift %= 26\n",
    "    print('\\033[93m' + f\"current shift: {shift}\" + '\\033[0m')\n",
    "\n",
    "for value in string:\n",
    "    tmp = ord(value)\n",
    "    \n",
    "    if 65 <= tmp <= 90:\n",
    "        tmp += shift\n",
    "        if tmp > 90:\n",
    "            tmp -= 90\n",
    "            tmp += 64\n",
    "        new_char = chr(tmp)\n",
    "        return_string += new_char\n",
    "    elif 97 <= tmp <= 122:\n",
    "        tmp += shift\n",
    "        if tmp > 122:\n",
    "            tmp -= 122\n",
    "            tmp += 96\n",
    "        new_char = chr(tmp)\n",
    "        return_string += new_char\n",
    "    else:\n",
    "        return_string += value\n",
    "\n",
    "print('\\033[92m' + f\"\\\"{string}\\\", {shift} -> \\\"{return_string}\\\"\" + '\\033[0m')\n"
   ]
  },
  {
   "cell_type": "markdown",
   "id": "c88bf52c",
   "metadata": {},
   "source": [
    "## Задание 5: Табель успеваемости\n",
    "\n",
    "Пользователь в бесконечном цикле (пока не будет введена пустая строка) вводит строки вида: 'название предмета' 'фамилия ученика' 'оценка'. После окончания ввода программа выводит в консоль название предмета, далее список учеников и все их оценки в виде таблицы.\n",
    "\n",
    "<br>\n",
    "\n",
    "**Примеры:**\n",
    "\n",
    "<br>\n",
    "\n",
    "*Ввод:*\n",
    "```python\n",
    "Математика Иванов  5\n",
    "Математика Иванов  4\n",
    "Литература Иванов  3\n",
    "Математика Петров  5\n",
    "Литература Сидоров 3\n",
    "Литература Петров  5\n",
    "Литература Иванов  4\n",
    "Математика Сидоров 3\n",
    "Математика Петров  5\n",
    "```\n",
    "\n",
    "<br>\n",
    "\n",
    "*Результат:*\n",
    "```python\n",
    "Математика # вводим название предмета\n",
    "\n",
    "# выводим список учеников и их оценки\n",
    "Иванов  5 4\n",
    "Петров  5 5\n",
    "Сидоров 3\n",
    "```\n",
    "\n",
    "```python\n",
    "Литература # вводим название предмета\n",
    "\n",
    "# выводим список учеников и их оценки\n",
    "Иванов  3 4\n",
    "Сидоров 3\n",
    "Петров  5\n",
    "```"
   ]
  },
  {
   "cell_type": "code",
   "execution_count": 33,
   "id": "196f6ff4",
   "metadata": {},
   "outputs": [
    {
     "name": "stdout",
     "output_type": "stream",
     "text": [
      "\u001b[93mЗавершение работы программы\u001b[0m\n",
      "\u001b[92m\n",
      "123\u001b[0m\n",
      "\u001b[92m3          3 5 \u001b[0m\n",
      "\u001b[92m4          4 \u001b[0m\n",
      "\u001b[92m\n",
      "213\u001b[0m\n",
      "\u001b[92m3          3 \u001b[0m\n"
     ]
    }
   ],
   "source": [
    "returned_data = {}\n",
    "\n",
    "while True:\n",
    "    input_string = input(\"Введите 'название предмета' 'фамилию ученика' 'оценку' или оставьте поле пыстым для завершения\")\n",
    "\n",
    "    if input_string == \"\":\n",
    "        print('\\033[93m' + \"Завершение работы программы\" + '\\033[0m')\n",
    "        break\n",
    "    \n",
    "    subject, surname, estimation = input_string.split()\n",
    "    try:\n",
    "        estimation = int(estimation)\n",
    "    except ValueError:\n",
    "        subject = \"\"\n",
    "        surname = \"\"\n",
    "        estimation = \"\"\n",
    "        print('\\033[91m' + \"Введите корректные значения в поле ввода\" + '\\033[0m')\n",
    "    \n",
    "    if subject not in returned_data:\n",
    "        returned_data[subject] = {}\n",
    "    if surname not in returned_data[subject]:\n",
    "        returned_data[subject][surname] = []\n",
    "    \n",
    "    returned_data[subject][surname].append(estimation)\n",
    "    \n",
    "for subject, surnames in returned_data.items():\n",
    "    print('\\033[92m' + f\"\\n{subject}\" + '\\033[0m')\n",
    "    for surname, estimations in surnames.items():\n",
    "        estimation_value = \"\"\n",
    "        for estimation in estimations:\n",
    "            estimation_value += str(estimation) + \" \"\n",
    "        print('\\033[92m' + f\"{surname:<10} {estimation_value}\" + '\\033[0m')\n",
    "    "
   ]
  }
 ],
 "metadata": {
  "kernelspec": {
   "display_name": "Python 3",
   "language": "python",
   "name": "python3"
  },
  "language_info": {
   "codemirror_mode": {
    "name": "ipython",
    "version": 3
   },
   "file_extension": ".py",
   "mimetype": "text/x-python",
   "name": "python",
   "nbconvert_exporter": "python",
   "pygments_lexer": "ipython3",
   "version": "3.12.10"
  }
 },
 "nbformat": 4,
 "nbformat_minor": 5
}
